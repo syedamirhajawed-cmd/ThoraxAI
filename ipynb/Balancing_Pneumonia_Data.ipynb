{
  "cells": [
    {
      "cell_type": "markdown",
      "metadata": {},
      "source": [
        "<div style=\"border-radius: 30px 0 30px 0px; border: 2px solid rgb(23, 35, 207); padding: 20px; background-color:rgb(0, 0, 0); text-align: center; box-shadow: 0px 2px 4px rgba(0, 0, 0); width: 60%; margin: auto;\">\n",
        "    <h1 style=\"color:rgb(23, 35, 207); text-shadow: 2px 2px 4px rgba(0, 0, 0); font-weight: bold; margin-bottom: 10px; font-size: 36px;\">Importing The Libraries\n",
        "</h1>\n",
        "</div>"
      ]
    },
    {
      "cell_type": "code",
      "execution_count": 1,
      "metadata": {
        "id": "8k4mjltAoLSn"
      },
      "outputs": [],
      "source": [
        "from PIL import Image\n",
        "import os\n",
        "import numpy as np\n",
        "from tensorflow.keras.preprocessing.image import ImageDataGenerator\n",
        "import os\n",
        "import shutil\n",
        "from sklearn.model_selection import train_test_split\n",
        "import warnings\n",
        "\n",
        "warnings.filterwarnings('ignore')"
      ]
    },
    {
      "cell_type": "code",
      "execution_count": 28,
      "metadata": {
        "colab": {
          "base_uri": "https://localhost:8080/"
        },
        "id": "gPNbM4i8oPpZ",
        "outputId": "5618cf21-8945-4d33-b0db-57482395569d"
      },
      "outputs": [
        {
          "name": "stdout",
          "output_type": "stream",
          "text": [
            "zsh:1: command not found: kaggle\n"
          ]
        }
      ],
      "source": [
        "# !kaggle datasets download -d paultimothymooney/chest-xray-pneumonia"
      ]
    },
    {
      "cell_type": "code",
      "execution_count": 3,
      "metadata": {
        "id": "46JtA-2woR2l"
      },
      "outputs": [],
      "source": [
        "# import zipfile\n",
        "# zip_ref = zipfile.ZipFile('chest-xray-pneumonia.zip', 'r')\n",
        "# zip_ref.extractall('chest-xray-pneumonia')\n",
        "# zip_ref.close()"
      ]
    },
    {
      "cell_type": "markdown",
      "metadata": {},
      "source": [
        "<div style=\"border-radius: 30px 0 30px 0px; border: 2px solid rgb(23, 35, 207); padding: 20px; background-color:rgb(0, 0, 0); text-align: center; box-shadow: 0px 2px 4px rgba(0, 0, 0); width: 60%; margin: auto;\">\n",
        "    <h1 style=\"color:rgb(23, 35, 207); text-shadow: 2px 2px 4px rgba(0, 0, 0); font-weight: bold; margin-bottom: 10px; font-size: 36px;\">Move All Data To One Folder\n",
        "</h1>\n",
        "</div>"
      ]
    },
    {
      "cell_type": "code",
      "execution_count": 4,
      "metadata": {
        "colab": {
          "base_uri": "https://localhost:8080/"
        },
        "id": "LiZZpBiDoTes",
        "outputId": "14ac8770-a23a-41b7-a630-324b989b8647"
      },
      "outputs": [
        {
          "name": "stdout",
          "output_type": "stream",
          "text": [
            "All data has been consolidated into: /Users/innovationinsight/Desktop/Umer/chest_xray/chest_xray/all_data\n"
          ]
        }
      ],
      "source": [
        "train_dir = \"/Users/innovationinsight/Desktop/Umer/chest_xray/chest_xray/train\"\n",
        "val_dir = \"/Users/innovationinsight/Desktop/Umer/chest_xray/chest_xray/val\"\n",
        "test_dir = \"/Users/innovationinsight/Desktop/Umer/chest_xray/chest_xray/test\"\n",
        "all_data_dir = \"/Users/innovationinsight/Desktop/Umer/chest_xray/chest_xray/all_data\"\n",
        "\n",
        "os.makedirs(all_data_dir, exist_ok=True)\n",
        "\n",
        "original_dirs = [train_dir, val_dir, test_dir]\n",
        "\n",
        "for folder in original_dirs:\n",
        "    for label in ['NORMAL', 'PNEUMONIA']:\n",
        "        src_dir = os.path.join(folder, label)\n",
        "        dest_dir = os.path.join(all_data_dir, label)\n",
        "        os.makedirs(dest_dir, exist_ok=True)\n",
        "        for file in os.listdir(src_dir):\n",
        "            shutil.copy(os.path.join(src_dir, file), os.path.join(dest_dir, file))\n",
        "\n",
        "print(\"All data has been consolidated into:\", all_data_dir)"
      ]
    },
    {
      "cell_type": "markdown",
      "metadata": {},
      "source": [
        "<div style=\"border-radius: 30px 0 30px 0px; border: 2px solid rgb(23, 35, 207); padding: 20px; background-color:rgb(0, 0, 0); text-align: center; box-shadow: 0px 2px 4px rgba(0, 0, 0); width: 60%; margin: auto;\">\n",
        "    <h1 style=\"color:rgb(23, 35, 207); text-shadow: 2px 2px 4px rgba(0, 0, 0); font-weight: bold; margin-bottom: 10px; font-size: 36px;\">Count Imbalance Classes\n",
        "</h1>\n",
        "</div>"
      ]
    },
    {
      "cell_type": "code",
      "execution_count": 5,
      "metadata": {
        "id": "BjT66Z3_oVB4"
      },
      "outputs": [],
      "source": [
        "def count_images(directory):\n",
        "    class_counts = {}\n",
        "    for class_name in os.listdir(directory):\n",
        "        class_path = os.path.join(directory, class_name)\n",
        "        if os.path.isdir(class_path):\n",
        "            class_counts[class_name] = len(os.listdir(class_path))\n",
        "    return class_counts"
      ]
    },
    {
      "cell_type": "code",
      "execution_count": 6,
      "metadata": {
        "colab": {
          "base_uri": "https://localhost:8080/"
        },
        "id": "S6--TZ1YopDm",
        "outputId": "10dee022-14e0-40d7-f1b6-658a8ee64490"
      },
      "outputs": [
        {
          "name": "stdout",
          "output_type": "stream",
          "text": [
            "PNEUMONIA: 4274 images\n",
            "NORMAL: 1584 images\n"
          ]
        }
      ],
      "source": [
        "class_distribution = count_images(all_data_dir)\n",
        "\n",
        "for class_name, count in class_distribution.items():\n",
        "    print(f\"{class_name}: {count} images\")"
      ]
    },
    {
      "cell_type": "markdown",
      "metadata": {},
      "source": [
        "### **NORMAL Class images need to be augmented**"
      ]
    },
    {
      "cell_type": "code",
      "execution_count": 7,
      "metadata": {
        "id": "tIYX-eNOpYop"
      },
      "outputs": [],
      "source": [
        "normal_dir = \"/Users/innovationinsight/Desktop/Umer/chest_xray/chest_xray/train\"\n",
        "augmented_dir = \"/Users/innovationinsight/Desktop/Umer/chest_xray/chest_xray/all_data/augmented_normal\"\n",
        "os.makedirs(augmented_dir, exist_ok=True)"
      ]
    },
    {
      "cell_type": "markdown",
      "metadata": {},
      "source": [
        "### **Augment NORMAL Images and Generate New Augmented Images**"
      ]
    },
    {
      "cell_type": "code",
      "execution_count": 8,
      "metadata": {
        "colab": {
          "base_uri": "https://localhost:8080/"
        },
        "id": "T4BXYdHDpfJd",
        "outputId": "30c35899-d4ca-4bf6-80fc-e60834b7d847"
      },
      "outputs": [
        {
          "name": "stdout",
          "output_type": "stream",
          "text": [
            "Augmented images saved to /Users/innovationinsight/Desktop/Umer/chest_xray/chest_xray/all_data/augmented_normal\n"
          ]
        }
      ],
      "source": [
        "normal_dir = \"/Users/innovationinsight/Desktop/Umer/chest_xray/chest_xray/all_data/NORMAL\"\n",
        "augmented_dir = \"/Users/innovationinsight/Desktop/Umer/chest_xray/chest_xray/all_data/augmented_normal\"\n",
        "os.makedirs(augmented_dir, exist_ok=True)\n",
        "\n",
        "allowed_extensions = {\".jpg\", \".jpeg\", \".png\", \".bmp\", \".tiff\"}\n",
        "\n",
        "datagen = ImageDataGenerator(\n",
        "    rotation_range=15,\n",
        "    width_shift_range=0.1,\n",
        "    height_shift_range=0.1,\n",
        "    shear_range=0.1,\n",
        "    zoom_range=0.1,\n",
        "    horizontal_flip=True,\n",
        "    fill_mode=\"nearest\"\n",
        ")\n",
        "\n",
        "for filename in os.listdir(normal_dir)\n",
        "    if not any(filename.lower().endswith(ext) for ext in allowed_extensions):\n",
        "        continue\n",
        "\n",
        "    img_path = os.path.join(normal_dir, filename)\n",
        "\n",
        "    try:\n",
        "        img = Image.open(img_path).resize((256, 256))\n",
        "        img_array = np.expand_dims(np.array(img) / 255.0, axis=0)\n",
        "        if img_array.ndim == 3:\n",
        "            img_array = np.expand_dims(img_array, axis=-1)\n",
        "\n",
        "        i = 0\n",
        "        for batch in datagen.flow(img_array, batch_size=1, save_to_dir=augmented_dir, save_prefix=\"aug\", save_format=\"jpeg\"):\n",
        "            i += 1\n",
        "            if i >= 5:\n",
        "                break\n",
        "\n",
        "    except Exception as e:\n",
        "        print(f\"Error processing file {filename}: {e}\")\n",
        "\n",
        "print(f\"Augmented images saved to {augmented_dir}\")"
      ]
    },
    {
      "cell_type": "markdown",
      "metadata": {},
      "source": [
        "### **Generate Total of \"5448\" new Augmented Images**"
      ]
    },
    {
      "cell_type": "code",
      "execution_count": 9,
      "metadata": {
        "colab": {
          "base_uri": "https://localhost:8080/"
        },
        "id": "GUmkmM-opqkl",
        "outputId": "d39c5277-6aa8-4e80-8809-dd7c0315b73f"
      },
      "outputs": [
        {
          "name": "stdout",
          "output_type": "stream",
          "text": [
            "Number of augmented images created: 5448\n"
          ]
        }
      ],
      "source": [
        "augmented_normal_dir = \"/Users/innovationinsight/Desktop/Umer/chest_xray/chest_xray/all_data/augmented_normal\"\n",
        "\n",
        "augmented_images = os.listdir(augmented_normal_dir)\n",
        "num_augmented_images = len(augmented_images)\n",
        "\n",
        "print(f\"Number of augmented images created: {num_augmented_images}\")"
      ]
    },
    {
      "cell_type": "markdown",
      "metadata": {},
      "source": [
        "### **Move all New Augmented Images and Not Augmented to Single Folder**"
      ]
    },
    {
      "cell_type": "code",
      "execution_count": 10,
      "metadata": {
        "colab": {
          "base_uri": "https://localhost:8080/"
        },
        "id": "tSttS3Hpuovy",
        "outputId": "53be56c9-310d-4778-f43d-52bdf53dbf5a"
      },
      "outputs": [
        {
          "name": "stdout",
          "output_type": "stream",
          "text": [
            "Successfully copied 5448 augmented images to the NORMAL directory.\n"
          ]
        }
      ],
      "source": [
        "normal_dir = \"/Users/innovationinsight/Desktop/Umer/chest_xray/chest_xray/all_data/NORMAL\"\n",
        "\n",
        "augmented_images = os.listdir(augmented_normal_dir)\n",
        "\n",
        "for img in augmented_images:\n",
        "    shutil.copy(os.path.join(augmented_normal_dir, img), os.path.join(normal_dir, img))\n",
        "\n",
        "print(f\"Successfully copied {len(augmented_images)} augmented images to the NORMAL directory.\")"
      ]
    },
    {
      "cell_type": "markdown",
      "metadata": {},
      "source": [
        "### **Total NORMAL Class Images become \"7038\"**\n",
        "\n",
        "This makes again class imabalance issue\n",
        "- Total NORMAL Class Images ==> \"7038\"\n",
        "- Total NORMAL Class Images ==> \"4274\""
      ]
    },
    {
      "cell_type": "code",
      "execution_count": 11,
      "metadata": {
        "colab": {
          "base_uri": "https://localhost:8080/"
        },
        "id": "6hOHOCgQwxOv",
        "outputId": "b3a3e730-5dd4-4234-8600-524ac772ed29"
      },
      "outputs": [
        {
          "name": "stdout",
          "output_type": "stream",
          "text": [
            "Number of augmented images created: 7032\n"
          ]
        }
      ],
      "source": [
        "normal_dir = \"/Users/innovationinsight/Desktop/Umer/chest_xray/chest_xray/all_data/NORMAL\"\n",
        "\n",
        "augmented_images = os.listdir(normal_dir)\n",
        "num_augmented_images = len(augmented_images)\n",
        "\n",
        "print(f\"Number of augmented images created: {num_augmented_images}\")"
      ]
    },
    {
      "cell_type": "markdown",
      "metadata": {},
      "source": [
        "### **Handle Class Imbalance Issue**\n",
        "- Make same number of images in both classes to resolve class imbalance issue"
      ]
    },
    {
      "cell_type": "code",
      "execution_count": 12,
      "metadata": {
        "colab": {
          "base_uri": "https://localhost:8080/"
        },
        "id": "CatYf3fWw5gA",
        "outputId": "dec0fb3a-abad-4837-cce0-1e35b9652c6f"
      },
      "outputs": [
        {
          "name": "stdout",
          "output_type": "stream",
          "text": [
            "Balanced data: 4274 NORMAL and 4274 PNEUMONIA images.\n"
          ]
        }
      ],
      "source": [
        "import random\n",
        "\n",
        "normal_dir = \"/Users/innovationinsight/Desktop/Umer/chest_xray/chest_xray/all_data/NORMAL\"\n",
        "pneumonia_dir = \"/Users/innovationinsight/Desktop/Umer/chest_xray/chest_xray/all_data/PNEUMONIA\"\n",
        "balanced_data_dir = \"/Users/innovationinsight/Desktop/Umer/chest_xray/chest_xray/all_data/balanced_data\"\n",
        "\n",
        "normal_images = os.listdir(normal_dir)\n",
        "pneumonia_images = os.listdir(pneumonia_dir)\n",
        "\n",
        "num_images_to_select = len(pneumonia_images)\n",
        "\n",
        "selected_normal_images = random.sample(normal_images, num_images_to_select)\n",
        "\n",
        "balanced_normal_dir = os.path.join(balanced_data_dir, \"NORMAL\")\n",
        "balanced_pneumonia_dir = os.path.join(balanced_data_dir, \"PNEUMONIA\")\n",
        "\n",
        "os.makedirs(balanced_normal_dir, exist_ok=True)\n",
        "os.makedirs(balanced_pneumonia_dir, exist_ok=True)\n",
        "\n",
        "for img in selected_normal_images:\n",
        "    shutil.copy(os.path.join(normal_dir, img), balanced_normal_dir)\n",
        "\n",
        "for img in pneumonia_images:\n",
        "    shutil.copy(os.path.join(pneumonia_dir, img), balanced_pneumonia_dir)\n",
        "\n",
        "print(f\"Balanced data: {len(selected_normal_images)} NORMAL and {len(pneumonia_images)} PNEUMONIA images.\")"
      ]
    },
    {
      "cell_type": "markdown",
      "metadata": {},
      "source": [
        "### **Issue Resolved**"
      ]
    },
    {
      "cell_type": "code",
      "execution_count": 13,
      "metadata": {
        "colab": {
          "base_uri": "https://localhost:8080/"
        },
        "id": "TczrTxkux07l",
        "outputId": "5e501d27-a7fc-4362-f0d1-0bc519a30b65"
      },
      "outputs": [
        {
          "name": "stdout",
          "output_type": "stream",
          "text": [
            "Number of images created: 4274\n",
            "Number of images created: 4274\n"
          ]
        }
      ],
      "source": [
        "normal_imgs = \"/Users/innovationinsight/Desktop/Umer/chest_xray/chest_xray/all_data/balanced_data/NORMAL\"\n",
        "pneumonia_imgs = \"/Users/innovationinsight/Desktop/Umer/chest_xray/chest_xray/all_data/balanced_data/PNEUMONIA\"\n",
        "\n",
        "tol_nomral_images = os.listdir(normal_imgs)\n",
        "num_nor_images = len(tol_nomral_images)\n",
        "\n",
        "tol_pneu_images = os.listdir(pneumonia_imgs)\n",
        "num_pneu_images = len(tol_pneu_images)\n",
        "\n",
        "print(f\"Number of images created: {num_nor_images}\")\n",
        "print(f\"Number of images created: {num_pneu_images}\")"
      ]
    },
    {
      "cell_type": "markdown",
      "metadata": {},
      "source": [
        "#### **Sucess:**\n",
        "- **Number of NORMAL class images == Number of PNEUMONIA Class Images**"
      ]
    },
    {
      "cell_type": "markdown",
      "metadata": {},
      "source": [
        "### **For creating separate folder as:**\n",
        "- **Train**\n",
        "- **Test**\n",
        "- **Validation**\n",
        "\n",
        "### **Refer to <a href = \"https://github.com/MuhammadUmerKhan/Medial-Pneumonia-Classification/blob/main/ipynb/Pneumonia_detection.ipynb\">Pneumonia_detection.ipynb</a>**"
      ]
    }
  ],
  "metadata": {
    "colab": {
      "provenance": []
    },
    "kernelspec": {
      "display_name": "Python 3",
      "name": "python3"
    },
    "language_info": {
      "codemirror_mode": {
        "name": "ipython",
        "version": 3
      },
      "file_extension": ".py",
      "mimetype": "text/x-python",
      "name": "python",
      "nbconvert_exporter": "python",
      "pygments_lexer": "ipython3",
      "version": "3.12.7"
    }
  },
  "nbformat": 4,
  "nbformat_minor": 0
}
